{
 "cells": [
  {
   "cell_type": "markdown",
   "id": "a481c5bb",
   "metadata": {},
   "source": [
    "*It’s your time to shine by presenting your insights back to the client.*"
   ]
  },
  {
   "cell_type": "markdown",
   "id": "9ebdb45d",
   "metadata": {},
   "source": [
    "# Task Overview\n",
    "\n",
    "**What you'll learn**\n",
    "- How to prepare for and present insights to a client in a presentation \n",
    "\n",
    "**What you'll do**\n",
    "- Record a <10 minute video of your presentation to your client and internal team members \n",
    "\n",
    "**Message from Accenture North America**\n",
    "\n",
    "| Watch Video |\n",
    "| :------: |\n",
    "| [Click Here](https://fast.wistia.net/embed/iframe/mnfw1xx3zj?videoFoam=false) |"
   ]
  },
  {
   "cell_type": "markdown",
   "id": "3b3dcf98",
   "metadata": {},
   "source": [
    "# Presentation tips\n",
    "\n",
    "When presenting to the client there are a few things that you should remember:\n",
    "1. They may not all be familiar with data, so you need to make sure you talk to them in business-friendly language.\n",
    "2. You want to show them that you’ve understood their business and requirements, so use their terminology and language relevant to the task.\n",
    "3. This is your time to shine and to show them how great you are! Try to present your work with confidence and conviction, if you don’t feel confident talking about your results then it’s a good indication that you don’t understand them fully or may need to revisit the dataset! Speaking about your results should feel natural when you explain what you’ve done.\n",
    "4. A good presentation always takes a lot of preparation. The more you practice presenting your content, the more confident you will be when the time comes. Practice with your housemates, friends, family, anyone that is free! Ask for feedback and keep improving until you’re happy with your presentation and you’re confident in presenting your content.\n",
    " \n",
    "Let’s keep going, you’re nearly finished!"
   ]
  },
  {
   "cell_type": "markdown",
   "id": "d6046ccb",
   "metadata": {},
   "source": [
    "# Record your video\n",
    "\n",
    "It is now time to record your presentation to the client.\n",
    "\n",
    "Remember, your presentation should be concise, engaging and should tell a compelling story. It should be no longer than 10 minutes.\n",
    "\n",
    "Recording the video may require a few attempts until you’re happy with it, but this task shouldn't take you longer than 30 minutes.\n",
    "\n",
    "While the recording functionality in this task won't allow you to share your slides as you speak, it will help you learn how to communicate and use eye contact when presenting. \n",
    "\n",
    "Let's record below!"
   ]
  },
  {
   "cell_type": "markdown",
   "id": "8ffb4ac9",
   "metadata": {},
   "source": [
    "# Presentation Example Answer\n",
    "\n",
    "Great work on your presentation. Watch this recording to see how you could have presented the insights.\n",
    "\n",
    "If you approached it differently, that's okay! Everyone will have their own style - but you should always strive to speak clearly and confidently.\n",
    "\n",
    "\n",
    "| Watch Video |\n",
    "| :------: |\n",
    "| [Click Here](https://fast.wistia.net/embed/iframe/6ryck0gwpd?seo=false&) |\n",
    "\n",
    "We’ve also attached a PDF with notes if you have trouble accessing the video.\n",
    "\n",
    "| Presentation with speaker notes |\n",
    "| :------: |\n",
    "| [PDF](https://cdn.theforage.com/vinternships/companyassets/T6kdcdKSTfg2aotxT/MsAqi7SNLKw3C6LAr/1664565745648/Task%204%20-%20Model%20Presentation%20(with%20talk%20track)%20(1).pdf) |\n",
    "\n",
    "\n"
   ]
  }
 ],
 "metadata": {
  "kernelspec": {
   "display_name": "Python 3 (ipykernel)",
   "language": "python",
   "name": "python3"
  },
  "language_info": {
   "codemirror_mode": {
    "name": "ipython",
    "version": 3
   },
   "file_extension": ".py",
   "mimetype": "text/x-python",
   "name": "python",
   "nbconvert_exporter": "python",
   "pygments_lexer": "ipython3",
   "version": "3.11.6"
  },
  "toc": {
   "base_numbering": 1,
   "nav_menu": {},
   "number_sections": true,
   "sideBar": true,
   "skip_h1_title": false,
   "title_cell": "Table of Contents",
   "title_sidebar": "Contents",
   "toc_cell": false,
   "toc_position": {},
   "toc_section_display": true,
   "toc_window_display": false
  }
 },
 "nbformat": 4,
 "nbformat_minor": 5
}
