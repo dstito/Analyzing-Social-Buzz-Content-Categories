{
 "cells": [
  {
   "cell_type": "markdown",
   "id": "253f4319",
   "metadata": {},
   "source": [
    "*Quickly get up to speed with the business problem being addressed, project requirements and team alignment.*"
   ]
  },
  {
   "cell_type": "markdown",
   "id": "536856aa",
   "metadata": {},
   "source": [
    "# Task Overview\n",
    "\n",
    "**What you'll learn**\n",
    "- What are the responsibilities of a Data Analyst at Accenture\n",
    "- What is a typical project team structure\n",
    "- How to review a client project brief\n",
    "\n",
    "**What you'll do**\n",
    "- Meet your Accenture team, including the industry, IPO and data experts\n",
    "- Read and analyze a client project brief to understand the client and business problem, identify the requirements that need to be delivered, and identify which tasks you need to focus on as a data analyst\n",
    "\n",
    "**Message from Accenture North America**\n",
    "\n",
    "| Watch Video |\n",
    "| :------: |\n",
    "| [Click Here](https://fast.wistia.net/embed/iframe/mi62e0ej7x?videoFoam=false) |\n"
   ]
  },
  {
   "cell_type": "markdown",
   "id": "99066204",
   "metadata": {},
   "source": [
    "# First up, why has Accenture built this program?\n",
    "\n",
    "The recruitment team at Accenture has created this program to educate and identify great candidates.\n",
    "\n",
    "If you aren’t yet ready to apply to us, that’s okay! This program will help you to explore what the job involves and build your resume. \n",
    "\n",
    "**So, how do you benefit?**\n",
    "- You get relevant work experience taught by our team \n",
    "- Add the program as a Certification to your Resume and LinkedIn\n",
    "- Stand out in applications and interviews - talk about the job skills you've learned and why you're a good fit for the team.\n",
    "\n",
    "**And what does the Accenture Team see?**\n",
    "\n",
    "We have access to a dashboard to see who joins and completes our programs, and to contact you about upcoming opportunities - (only if you share your data with us of course!). \n",
    "\n",
    "By completing the program, you're showing us that you're a motivated student who's interested in Accenture, this is very important to us. Don't worry, this is not an assessment tool, this is a safe learning environment for you to build your skills. \n",
    "\n",
    "So, let's get started with the program! "
   ]
  },
  {
   "cell_type": "markdown",
   "id": "1eb30a83",
   "metadata": {},
   "source": [
    "# Before we begin…\n",
    "\n",
    "Here are some key facts about this program:\n",
    "- You are working as a Data Analyst at Accenture.\n",
    "- You work within a larger team, where each member has a different role and level of responsibility.\n",
    "- Your team has been assigned a new project for a client called **\"Social Buzz\"**.\n",
    "- You’re hoping for a promotion at work, and this is an exciting opportunity for you to showcase your data analysis and visualization skills.\n",
    "\n",
    "Let's get started!"
   ]
  },
  {
   "cell_type": "markdown",
   "id": "e9ab5134",
   "metadata": {},
   "source": [
    "# Key roles and responsibilities of a Data Analyst\n",
    "\n",
    "A data analyst sits between the **business** and the **data**.\n",
    "\n",
    "What do we mean by that?\n",
    "- **The Business** refers to the client and your internal team members who won’t be involved in detailed data analysis.\n",
    "    - They rely on your analysis to make strategic business decisions.\n",
    "    - Importantly, not everyone will have a strong understanding of data. Your job is to communicate your data findings simply and clearly for everyone to understand.\n",
    "- **The Data** refers to the relevant data sources that you will clean, process, and use to generate interesting insights for the business.\n",
    "\n",
    "As a Data Analyst at Accenture, you’ll get to work across a range of different clients and projects. This keeps things interesting, as there are always new problems to solve and new topics to learn about.\n",
    "\n",
    "However, our clients often want accurate results in a tight timeframe. The pace of work is fast and you’ll need to get up to speed on new projects as quickly as possible.\n",
    "\n",
    "Now you know a bit more about the role, let’s get back to the project with **\"Social Buzz\"**."
   ]
  },
  {
   "cell_type": "markdown",
   "id": "771b01c0",
   "metadata": {},
   "source": [
    "## Read the brief from Social Buzz\n",
    "\n",
    "**Your first task is to read the brief from \"Social Buzz\" and complete a short knowledge check before the call**. \n",
    "\n",
    "One of Accenture’s Managing Directors, Mae Mulligan, is the client lead for Social Buzz. She has reviewed the brief provided by Social Buzz and has assembled a diverse team of Accenture experts to deliver the project.\n",
    "\n",
    "Mae has scheduled a project kick off call with the internal Accenture project team for tomorrow morning. Ahead of the call, Mae has shared the project brief so you can get up to speed on what **\"Social Buzz\"** need help with.\n",
    "\n",
    "**Read the brief to:**\n",
    "- Understand the client and business problem at hand.\n",
    "- Identify the requirements that need to be delivered for this project.\n",
    "- Identify which tasks you should focus on as a Data Analyst.\n",
    "\n",
    "Complete the knowledge check to move onto the next step. You can attempt each question in the knowledge check as many times as you like!\n",
    "\n",
    "\n",
    "\n",
    "| Brief from **\"Social Buzz\"** |\n",
    "| :------: |\n",
    "| [PDF](https://cdn.theforage.com/vinternships/companyassets/T6kdcdKSTfg2aotxT/MsAqi7SNLKw3C6LAr/1664296994014/Data_Analytics%20Client%20Brief.pdf)    |\n",
    "\n",
    "### Here are some resources to help you\n",
    "\n",
    "**Here are some key terms if you're curious:**\n",
    "\n",
    "Note: You don’t need to know anything more about Big Data or IPOs for this program.\n",
    "\n",
    "**Big Data** refers to large, diverse sets of information that grow at ever-increasing rates. It includes the volume of information, the velocity or speed at which it is created and collected, and the variety or scope of the data points being covered (known as the \"three v's\" of big data). Source: [Investopedia](https://www.investopedia.com/financial-edge/0312/ipos-for-beginners.aspx).\n",
    "\n",
    "An **IPO** stands for Initial Public Offering - this happens when a private company becomes public by selling its shares on a stock exchange. Source: [Investopedia](https://www.investopedia.com/terms/b/big-data.asp).\n",
    "\n",
    "### Quiz\n",
    "\n",
    "| Question |\n",
    "| :------: |\n",
    "| <img src=\"image/Task 1 - Question 1.png\" width=\"500\"> |\n",
    "| <img src=\"image/Task 1 - Question 2.png\" width=\"500\"> |"
   ]
  },
  {
   "cell_type": "markdown",
   "id": "f64c21ac",
   "metadata": {},
   "source": [
    "## Meet your Accenture team\n",
    "\n",
    "Great work reading and interpreting the brief from Social Buzz. You’re now ready for your internal meeting with Mae.\n",
    "\n",
    "So, let’s jump on the call and see who you’re going to be working with, then answer one quick question to move onto your next task! \n",
    "\n",
    "If you can't access the video, please use the resources below.\n",
    "\n",
    "| Watch Video |\n",
    "| :------: |\n",
    "| [Click Here](https://fast.wistia.net/embed/iframe/yke81aurmv?seo=false&) |\n",
    "\n",
    "### Here are some resources to help you\n",
    "\n",
    "Can’t access the video? See the summary slide of your team here. Notice how the team is structured in three key groups:\n",
    "\n",
    "- **Industry experts** in the social media space to ensure we accurately understand Social Buzz’s sector.\n",
    "- **IPO experts** who will deliver on the IPO requirement\n",
    "- **Data experts** who will provide Big Data insights and content category analysis. ***This is where you sit!***\n",
    "\n",
    "| Accenture Project Team |\n",
    "| :------: |\n",
    "| [PDF](https://cdn.theforage.com/vinternships/companyassets/T6kdcdKSTfg2aotxT/MsAqi7SNLKw3C6LAr/1664297460699/Internal%20stakeholder%20chart.pdf)    |\n",
    "\n",
    "### Quiz\n",
    "\n",
    "| Question |\n",
    "| :------: |\n",
    "| <img src=\"image/Task 1 - Question 3.png\" width=\"500\"> |"
   ]
  }
 ],
 "metadata": {
  "kernelspec": {
   "display_name": "Python 3 (ipykernel)",
   "language": "python",
   "name": "python3"
  },
  "language_info": {
   "codemirror_mode": {
    "name": "ipython",
    "version": 3
   },
   "file_extension": ".py",
   "mimetype": "text/x-python",
   "name": "python",
   "nbconvert_exporter": "python",
   "pygments_lexer": "ipython3",
   "version": "3.11.6"
  },
  "toc": {
   "base_numbering": 1,
   "nav_menu": {},
   "number_sections": false,
   "sideBar": true,
   "skip_h1_title": false,
   "title_cell": "Table of Contents",
   "title_sidebar": "Contents",
   "toc_cell": false,
   "toc_position": {
    "height": "calc(100% - 180px)",
    "left": "10px",
    "top": "150px",
    "width": "164.988px"
   },
   "toc_section_display": true,
   "toc_window_display": false
  }
 },
 "nbformat": 4,
 "nbformat_minor": 5
}
